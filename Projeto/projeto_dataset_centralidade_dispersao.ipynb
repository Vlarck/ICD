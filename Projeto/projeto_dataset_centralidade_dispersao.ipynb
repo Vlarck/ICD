{
  "nbformat": 4,
  "nbformat_minor": 0,
  "metadata": {
    "kernelspec": {
      "display_name": "Python 3",
      "language": "python",
      "name": "python3"
    },
    "language_info": {
      "codemirror_mode": {
        "name": "ipython",
        "version": 3
      },
      "file_extension": ".py",
      "mimetype": "text/x-python",
      "name": "python",
      "nbconvert_exporter": "python",
      "pygments_lexer": "ipython3",
      "version": "3.7.6"
    },
    "colab": {
      "name": "projeto_dataset_centralidade_dispersao.ipynb",
      "provenance": []
    }
  },
  "cells": [
    {
      "cell_type": "code",
      "metadata": {
        "id": "CR_tIBe0Y3s_"
      },
      "source": [
        "import pandas as pd\n",
        "import matplotlib.pyplot as plt"
      ],
      "execution_count": 15,
      "outputs": []
    },
    {
      "cell_type": "code",
      "metadata": {
        "id": "CpaVR1e6Y3tM",
        "outputId": "98f2f33c-06c9-44c6-b515-e65c594c0ae3",
        "colab": {
          "base_uri": "https://localhost:8080/",
          "height": 490
        }
      },
      "source": [
        "df = pd.read_csv(\"https://raw.githubusercontent.com/Vlarck/ICD/main/Projeto/datasets/LED.csv\")\n",
        "df"
      ],
      "execution_count": 3,
      "outputs": [
        {
          "output_type": "execute_result",
          "data": {
            "text/html": [
              "<div>\n",
              "<style scoped>\n",
              "    .dataframe tbody tr th:only-of-type {\n",
              "        vertical-align: middle;\n",
              "    }\n",
              "\n",
              "    .dataframe tbody tr th {\n",
              "        vertical-align: top;\n",
              "    }\n",
              "\n",
              "    .dataframe thead th {\n",
              "        text-align: right;\n",
              "    }\n",
              "</style>\n",
              "<table border=\"1\" class=\"dataframe\">\n",
              "  <thead>\n",
              "    <tr style=\"text-align: right;\">\n",
              "      <th></th>\n",
              "      <th>Country</th>\n",
              "      <th>Year</th>\n",
              "      <th>Status</th>\n",
              "      <th>Life expectancy</th>\n",
              "      <th>Adult Mortality</th>\n",
              "      <th>infant deaths</th>\n",
              "      <th>Alcohol</th>\n",
              "      <th>percentage expenditure</th>\n",
              "      <th>Hepatitis B</th>\n",
              "      <th>Measles</th>\n",
              "      <th>BMI</th>\n",
              "      <th>under-five deaths</th>\n",
              "      <th>Polio</th>\n",
              "      <th>Total expenditure</th>\n",
              "      <th>Diphtheria</th>\n",
              "      <th>HIV/AIDS</th>\n",
              "      <th>GDP</th>\n",
              "      <th>Population</th>\n",
              "      <th>thinness  1-19 years</th>\n",
              "      <th>thinness 5-9 years</th>\n",
              "      <th>Income composition of resources</th>\n",
              "      <th>Schooling</th>\n",
              "    </tr>\n",
              "  </thead>\n",
              "  <tbody>\n",
              "    <tr>\n",
              "      <th>0</th>\n",
              "      <td>Afghanistan</td>\n",
              "      <td>2015</td>\n",
              "      <td>Developing</td>\n",
              "      <td>65.0</td>\n",
              "      <td>263.0</td>\n",
              "      <td>62</td>\n",
              "      <td>0.01</td>\n",
              "      <td>71.279624</td>\n",
              "      <td>65.0</td>\n",
              "      <td>1154</td>\n",
              "      <td>19.1</td>\n",
              "      <td>83</td>\n",
              "      <td>6.0</td>\n",
              "      <td>8.16</td>\n",
              "      <td>65.0</td>\n",
              "      <td>0.1</td>\n",
              "      <td>584.259210</td>\n",
              "      <td>33736494.0</td>\n",
              "      <td>17.2</td>\n",
              "      <td>17.3</td>\n",
              "      <td>0.479</td>\n",
              "      <td>10.1</td>\n",
              "    </tr>\n",
              "    <tr>\n",
              "      <th>1</th>\n",
              "      <td>Afghanistan</td>\n",
              "      <td>2014</td>\n",
              "      <td>Developing</td>\n",
              "      <td>59.9</td>\n",
              "      <td>271.0</td>\n",
              "      <td>64</td>\n",
              "      <td>0.01</td>\n",
              "      <td>73.523582</td>\n",
              "      <td>62.0</td>\n",
              "      <td>492</td>\n",
              "      <td>18.6</td>\n",
              "      <td>86</td>\n",
              "      <td>58.0</td>\n",
              "      <td>8.18</td>\n",
              "      <td>62.0</td>\n",
              "      <td>0.1</td>\n",
              "      <td>612.696514</td>\n",
              "      <td>327582.0</td>\n",
              "      <td>17.5</td>\n",
              "      <td>17.5</td>\n",
              "      <td>0.476</td>\n",
              "      <td>10.0</td>\n",
              "    </tr>\n",
              "    <tr>\n",
              "      <th>2</th>\n",
              "      <td>Afghanistan</td>\n",
              "      <td>2013</td>\n",
              "      <td>Developing</td>\n",
              "      <td>59.9</td>\n",
              "      <td>268.0</td>\n",
              "      <td>66</td>\n",
              "      <td>0.01</td>\n",
              "      <td>73.219243</td>\n",
              "      <td>64.0</td>\n",
              "      <td>430</td>\n",
              "      <td>18.1</td>\n",
              "      <td>89</td>\n",
              "      <td>62.0</td>\n",
              "      <td>8.13</td>\n",
              "      <td>64.0</td>\n",
              "      <td>0.1</td>\n",
              "      <td>631.744976</td>\n",
              "      <td>31731688.0</td>\n",
              "      <td>17.7</td>\n",
              "      <td>17.7</td>\n",
              "      <td>0.470</td>\n",
              "      <td>9.9</td>\n",
              "    </tr>\n",
              "    <tr>\n",
              "      <th>3</th>\n",
              "      <td>Afghanistan</td>\n",
              "      <td>2012</td>\n",
              "      <td>Developing</td>\n",
              "      <td>59.5</td>\n",
              "      <td>272.0</td>\n",
              "      <td>69</td>\n",
              "      <td>0.01</td>\n",
              "      <td>78.184215</td>\n",
              "      <td>67.0</td>\n",
              "      <td>2787</td>\n",
              "      <td>17.6</td>\n",
              "      <td>93</td>\n",
              "      <td>67.0</td>\n",
              "      <td>8.52</td>\n",
              "      <td>67.0</td>\n",
              "      <td>0.1</td>\n",
              "      <td>669.959000</td>\n",
              "      <td>3696958.0</td>\n",
              "      <td>17.9</td>\n",
              "      <td>18.0</td>\n",
              "      <td>0.463</td>\n",
              "      <td>9.8</td>\n",
              "    </tr>\n",
              "    <tr>\n",
              "      <th>4</th>\n",
              "      <td>Afghanistan</td>\n",
              "      <td>2011</td>\n",
              "      <td>Developing</td>\n",
              "      <td>59.2</td>\n",
              "      <td>275.0</td>\n",
              "      <td>71</td>\n",
              "      <td>0.01</td>\n",
              "      <td>7.097109</td>\n",
              "      <td>68.0</td>\n",
              "      <td>3013</td>\n",
              "      <td>17.2</td>\n",
              "      <td>97</td>\n",
              "      <td>68.0</td>\n",
              "      <td>7.87</td>\n",
              "      <td>68.0</td>\n",
              "      <td>0.1</td>\n",
              "      <td>63.537231</td>\n",
              "      <td>2978599.0</td>\n",
              "      <td>18.2</td>\n",
              "      <td>18.2</td>\n",
              "      <td>0.454</td>\n",
              "      <td>9.5</td>\n",
              "    </tr>\n",
              "    <tr>\n",
              "      <th>...</th>\n",
              "      <td>...</td>\n",
              "      <td>...</td>\n",
              "      <td>...</td>\n",
              "      <td>...</td>\n",
              "      <td>...</td>\n",
              "      <td>...</td>\n",
              "      <td>...</td>\n",
              "      <td>...</td>\n",
              "      <td>...</td>\n",
              "      <td>...</td>\n",
              "      <td>...</td>\n",
              "      <td>...</td>\n",
              "      <td>...</td>\n",
              "      <td>...</td>\n",
              "      <td>...</td>\n",
              "      <td>...</td>\n",
              "      <td>...</td>\n",
              "      <td>...</td>\n",
              "      <td>...</td>\n",
              "      <td>...</td>\n",
              "      <td>...</td>\n",
              "      <td>...</td>\n",
              "    </tr>\n",
              "    <tr>\n",
              "      <th>2933</th>\n",
              "      <td>Zimbabwe</td>\n",
              "      <td>2004</td>\n",
              "      <td>Developing</td>\n",
              "      <td>44.3</td>\n",
              "      <td>723.0</td>\n",
              "      <td>27</td>\n",
              "      <td>4.36</td>\n",
              "      <td>0.000000</td>\n",
              "      <td>68.0</td>\n",
              "      <td>31</td>\n",
              "      <td>27.1</td>\n",
              "      <td>42</td>\n",
              "      <td>67.0</td>\n",
              "      <td>7.13</td>\n",
              "      <td>65.0</td>\n",
              "      <td>33.6</td>\n",
              "      <td>454.366654</td>\n",
              "      <td>12777511.0</td>\n",
              "      <td>9.4</td>\n",
              "      <td>9.4</td>\n",
              "      <td>0.407</td>\n",
              "      <td>9.2</td>\n",
              "    </tr>\n",
              "    <tr>\n",
              "      <th>2934</th>\n",
              "      <td>Zimbabwe</td>\n",
              "      <td>2003</td>\n",
              "      <td>Developing</td>\n",
              "      <td>44.5</td>\n",
              "      <td>715.0</td>\n",
              "      <td>26</td>\n",
              "      <td>4.06</td>\n",
              "      <td>0.000000</td>\n",
              "      <td>7.0</td>\n",
              "      <td>998</td>\n",
              "      <td>26.7</td>\n",
              "      <td>41</td>\n",
              "      <td>7.0</td>\n",
              "      <td>6.52</td>\n",
              "      <td>68.0</td>\n",
              "      <td>36.7</td>\n",
              "      <td>453.351155</td>\n",
              "      <td>12633897.0</td>\n",
              "      <td>9.8</td>\n",
              "      <td>9.9</td>\n",
              "      <td>0.418</td>\n",
              "      <td>9.5</td>\n",
              "    </tr>\n",
              "    <tr>\n",
              "      <th>2935</th>\n",
              "      <td>Zimbabwe</td>\n",
              "      <td>2002</td>\n",
              "      <td>Developing</td>\n",
              "      <td>44.8</td>\n",
              "      <td>73.0</td>\n",
              "      <td>25</td>\n",
              "      <td>4.43</td>\n",
              "      <td>0.000000</td>\n",
              "      <td>73.0</td>\n",
              "      <td>304</td>\n",
              "      <td>26.3</td>\n",
              "      <td>40</td>\n",
              "      <td>73.0</td>\n",
              "      <td>6.53</td>\n",
              "      <td>71.0</td>\n",
              "      <td>39.8</td>\n",
              "      <td>57.348340</td>\n",
              "      <td>125525.0</td>\n",
              "      <td>1.2</td>\n",
              "      <td>1.3</td>\n",
              "      <td>0.427</td>\n",
              "      <td>10.0</td>\n",
              "    </tr>\n",
              "    <tr>\n",
              "      <th>2936</th>\n",
              "      <td>Zimbabwe</td>\n",
              "      <td>2001</td>\n",
              "      <td>Developing</td>\n",
              "      <td>45.3</td>\n",
              "      <td>686.0</td>\n",
              "      <td>25</td>\n",
              "      <td>1.72</td>\n",
              "      <td>0.000000</td>\n",
              "      <td>76.0</td>\n",
              "      <td>529</td>\n",
              "      <td>25.9</td>\n",
              "      <td>39</td>\n",
              "      <td>76.0</td>\n",
              "      <td>6.16</td>\n",
              "      <td>75.0</td>\n",
              "      <td>42.1</td>\n",
              "      <td>548.587312</td>\n",
              "      <td>12366165.0</td>\n",
              "      <td>1.6</td>\n",
              "      <td>1.7</td>\n",
              "      <td>0.427</td>\n",
              "      <td>9.8</td>\n",
              "    </tr>\n",
              "    <tr>\n",
              "      <th>2937</th>\n",
              "      <td>Zimbabwe</td>\n",
              "      <td>2000</td>\n",
              "      <td>Developing</td>\n",
              "      <td>46.0</td>\n",
              "      <td>665.0</td>\n",
              "      <td>24</td>\n",
              "      <td>1.68</td>\n",
              "      <td>0.000000</td>\n",
              "      <td>79.0</td>\n",
              "      <td>1483</td>\n",
              "      <td>25.5</td>\n",
              "      <td>39</td>\n",
              "      <td>78.0</td>\n",
              "      <td>7.10</td>\n",
              "      <td>78.0</td>\n",
              "      <td>43.5</td>\n",
              "      <td>547.358879</td>\n",
              "      <td>12222251.0</td>\n",
              "      <td>11.0</td>\n",
              "      <td>11.2</td>\n",
              "      <td>0.434</td>\n",
              "      <td>9.8</td>\n",
              "    </tr>\n",
              "  </tbody>\n",
              "</table>\n",
              "<p>2938 rows × 22 columns</p>\n",
              "</div>"
            ],
            "text/plain": [
              "          Country  Year  ... Income composition of resources  Schooling\n",
              "0     Afghanistan  2015  ...                           0.479       10.1\n",
              "1     Afghanistan  2014  ...                           0.476       10.0\n",
              "2     Afghanistan  2013  ...                           0.470        9.9\n",
              "3     Afghanistan  2012  ...                           0.463        9.8\n",
              "4     Afghanistan  2011  ...                           0.454        9.5\n",
              "...           ...   ...  ...                             ...        ...\n",
              "2933     Zimbabwe  2004  ...                           0.407        9.2\n",
              "2934     Zimbabwe  2003  ...                           0.418        9.5\n",
              "2935     Zimbabwe  2002  ...                           0.427       10.0\n",
              "2936     Zimbabwe  2001  ...                           0.427        9.8\n",
              "2937     Zimbabwe  2000  ...                           0.434        9.8\n",
              "\n",
              "[2938 rows x 22 columns]"
            ]
          },
          "metadata": {
            "tags": []
          },
          "execution_count": 3
        }
      ]
    },
    {
      "cell_type": "code",
      "metadata": {
        "id": "7s5NO4CyY3tS",
        "outputId": "79b56095-8b7f-4cb1-be79-fa84b539de4c",
        "colab": {
          "base_uri": "https://localhost:8080/"
        }
      },
      "source": [
        "colunas = df.columns # Lista com os títulos das colunas.\n",
        "colunas_so_com_numericos = colunas[3:23] # Deixei apenas valores numéricos(retirei as strings).\n",
        "colunas_so_com_numericos"
      ],
      "execution_count": 4,
      "outputs": [
        {
          "output_type": "execute_result",
          "data": {
            "text/plain": [
              "Index(['Life expectancy ', 'Adult Mortality', 'infant deaths', 'Alcohol',\n",
              "       'percentage expenditure', 'Hepatitis B', 'Measles ', ' BMI ',\n",
              "       'under-five deaths ', 'Polio', 'Total expenditure', 'Diphtheria ',\n",
              "       ' HIV/AIDS', 'GDP', 'Population', ' thinness  1-19 years',\n",
              "       ' thinness 5-9 years', 'Income composition of resources', 'Schooling'],\n",
              "      dtype='object')"
            ]
          },
          "metadata": {
            "tags": []
          },
          "execution_count": 4
        }
      ]
    },
    {
      "cell_type": "code",
      "metadata": {
        "id": "BchXUoKAY3tT"
      },
      "source": [
        "lista_medias = df.mean(axis=0).to_list() # Passando as médias das colunas para uma lista.\n",
        "lista_medias_numericos = lista_medias[1:23] # Retirei a médias das colunas dos anos, através de um corte na lista."
      ],
      "execution_count": 6,
      "outputs": []
    },
    {
      "cell_type": "code",
      "metadata": {
        "id": "PqkYJABBY3tT"
      },
      "source": [
        "lista_medianas = df.median(axis=0).to_list() # Passando as medianas das colunas para uma lista.\n",
        "lista_medianas_numericos = lista_medianas[1:23] # Retirando a mediana da coluna dos anos, novamente."
      ],
      "execution_count": 7,
      "outputs": []
    },
    {
      "cell_type": "code",
      "metadata": {
        "id": "llHsMmrcY3tU"
      },
      "source": [
        "lista_variancias = df.var(axis=0).to_list() # Passando a variância das colunas para uma lista. \n",
        "lista_variancias_numericos = lista_variancias[1:23] # Retirando a variância da coluna dos anos."
      ],
      "execution_count": 8,
      "outputs": []
    },
    {
      "cell_type": "code",
      "metadata": {
        "id": "DKPJDfEYY3tV"
      },
      "source": [
        "lista_desvio_padrao = df.std(axis=0).to_list() # Passando o desvio padrão das colunas para uma lista.\n",
        "lista_desvio_padrao_numericos = lista_desvio_padrao[1:23] # Retirando o desvio padrão da coluna dos anos."
      ],
      "execution_count": 9,
      "outputs": []
    },
    {
      "cell_type": "code",
      "metadata": {
        "id": "b7i9sG35Y3tV",
        "outputId": "1d5e78b5-98ff-494b-a4d4-9bf0ac51cf4e",
        "colab": {
          "base_uri": "https://localhost:8080/"
        }
      },
      "source": [
        "for i in range(0, len(lista_medias_numericos)):\n",
        "    medias_dict = [{\"Coluna\": colunas_so_com_numericos[i], \"Média\": lista_medias_numericos[i]}]\n",
        "    print(medias_dict)"
      ],
      "execution_count": 10,
      "outputs": [
        {
          "output_type": "stream",
          "text": [
            "[{'Coluna': 'Life expectancy ', 'Média': 69.22493169398912}]\n",
            "[{'Coluna': 'Adult Mortality', 'Média': 164.79644808743168}]\n",
            "[{'Coluna': 'infant deaths', 'Média': 30.303948264125257}]\n",
            "[{'Coluna': 'Alcohol', 'Média': 4.6028607871720375}]\n",
            "[{'Coluna': 'percentage expenditure', 'Média': 738.2512954533823}]\n",
            "[{'Coluna': 'Hepatitis B', 'Média': 80.94046121593291}]\n",
            "[{'Coluna': 'Measles ', 'Média': 2419.5922396187884}]\n",
            "[{'Coluna': ' BMI ', 'Média': 38.32124655647373}]\n",
            "[{'Coluna': 'under-five deaths ', 'Média': 42.0357385976855}]\n",
            "[{'Coluna': 'Polio', 'Média': 82.55018842069202}]\n",
            "[{'Coluna': 'Total expenditure', 'Média': 5.9381895280235915}]\n",
            "[{'Coluna': 'Diphtheria ', 'Média': 82.32408359027065}]\n",
            "[{'Coluna': ' HIV/AIDS', 'Média': 1.7421034717494939}]\n",
            "[{'Coluna': 'GDP', 'Média': 7483.158469138481}]\n",
            "[{'Coluna': 'Population', 'Média': 12753375.120052498}]\n",
            "[{'Coluna': ' thinness  1-19 years', 'Média': 4.8397038567493205}]\n",
            "[{'Coluna': ' thinness 5-9 years', 'Média': 4.870316804407711}]\n",
            "[{'Coluna': 'Income composition of resources', 'Média': 0.6275510645976166}]\n",
            "[{'Coluna': 'Schooling', 'Média': 11.992792792792786}]\n"
          ],
          "name": "stdout"
        }
      ]
    },
    {
      "cell_type": "code",
      "metadata": {
        "id": "GADx2XqeY3tW",
        "outputId": "7c8d91cb-ab7f-44a7-b857-c0cfd3f3ee83",
        "colab": {
          "base_uri": "https://localhost:8080/"
        }
      },
      "source": [
        "for i in range(0, len(lista_medianas_numericos)):\n",
        "    mediana_dict=[{\"Coluna\": colunas_so_com_numericos[i], \"Mediana\": lista_medianas_numericos[i]}]\n",
        "    print(mediana_dict)"
      ],
      "execution_count": 11,
      "outputs": [
        {
          "output_type": "stream",
          "text": [
            "[{'Coluna': 'Life expectancy ', 'Mediana': 72.1}]\n",
            "[{'Coluna': 'Adult Mortality', 'Mediana': 144.0}]\n",
            "[{'Coluna': 'infant deaths', 'Mediana': 3.0}]\n",
            "[{'Coluna': 'Alcohol', 'Mediana': 3.755}]\n",
            "[{'Coluna': 'percentage expenditure', 'Mediana': 64.912906045}]\n",
            "[{'Coluna': 'Hepatitis B', 'Mediana': 92.0}]\n",
            "[{'Coluna': 'Measles ', 'Mediana': 17.0}]\n",
            "[{'Coluna': ' BMI ', 'Mediana': 43.5}]\n",
            "[{'Coluna': 'under-five deaths ', 'Mediana': 4.0}]\n",
            "[{'Coluna': 'Polio', 'Mediana': 93.0}]\n",
            "[{'Coluna': 'Total expenditure', 'Mediana': 5.755}]\n",
            "[{'Coluna': 'Diphtheria ', 'Mediana': 93.0}]\n",
            "[{'Coluna': ' HIV/AIDS', 'Mediana': 0.1}]\n",
            "[{'Coluna': 'GDP', 'Mediana': 1766.947595}]\n",
            "[{'Coluna': 'Population', 'Mediana': 1386542.0}]\n",
            "[{'Coluna': ' thinness  1-19 years', 'Mediana': 3.3}]\n",
            "[{'Coluna': ' thinness 5-9 years', 'Mediana': 3.3}]\n",
            "[{'Coluna': 'Income composition of resources', 'Mediana': 0.677}]\n",
            "[{'Coluna': 'Schooling', 'Mediana': 12.3}]\n"
          ],
          "name": "stdout"
        }
      ]
    },
    {
      "cell_type": "code",
      "metadata": {
        "id": "Xgb5xz_4Y3tX",
        "outputId": "ef00d6c5-6496-4ca6-ad85-685d9609fb30",
        "colab": {
          "base_uri": "https://localhost:8080/"
        }
      },
      "source": [
        "for i in range(0, len(lista_variancias_numericos)):\n",
        "    mediana_dict=[{\"Coluna\": colunas_so_com_numericos[i], \"Variância\": lista_variancias_numericos[i]}]\n",
        "    print(mediana_dict)"
      ],
      "execution_count": 12,
      "outputs": [
        {
          "output_type": "stream",
          "text": [
            "[{'Coluna': 'Life expectancy ', 'Variância': 90.70405192563634}]\n",
            "[{'Coluna': 'Adult Mortality', 'Variância': 15448.5209029929}]\n",
            "[{'Coluna': 'infant deaths', 'Variância': 13906.659712018884}]\n",
            "[{'Coluna': 'Alcohol', 'Variância': 16.422048356843053}]\n",
            "[{'Coluna': 'percentage expenditure', 'Variância': 3951805.4827215625}]\n",
            "[{'Coluna': 'Hepatitis B', 'Variância': 628.5056818341719}]\n",
            "[{'Coluna': 'Measles ', 'Variância': 131498338.34235595}]\n",
            "[{'Coluna': ' BMI ', 'Variância': 401.7632790518308}]\n",
            "[{'Coluna': 'under-five deaths ', 'Variância': 25742.774003216797}]\n",
            "[{'Coluna': 'Polio', 'Variância': 548.8733370104052}]\n",
            "[{'Coluna': 'Total expenditure', 'Variância': 6.2416011842798165}]\n",
            "[{'Coluna': 'Diphtheria ', 'Variância': 562.4919180684007}]\n",
            "[{'Coluna': ' HIV/AIDS', 'Variância': 25.783895744141596}]\n",
            "[{'Coluna': 'GDP', 'Variância': 203637733.03554288}]\n",
            "[{'Coluna': 'Population', 'Variância': 3722475920353729.0}]\n",
            "[{'Coluna': ' thinness  1-19 years', 'Variância': 19.538123370760047}]\n",
            "[{'Coluna': ' thinness 5-9 years', 'Variância': 20.330017674316203}]\n",
            "[{'Coluna': 'Income composition of resources', 'Variância': 0.04448030957558118}]\n",
            "[{'Coluna': 'Schooling', 'Variância': 11.282341692810395}]\n"
          ],
          "name": "stdout"
        }
      ]
    },
    {
      "cell_type": "code",
      "metadata": {
        "id": "CQG5Y0OCY3tX",
        "outputId": "15a3d6aa-fd9f-4073-9fc5-c1ff7dd60d19",
        "colab": {
          "base_uri": "https://localhost:8080/"
        }
      },
      "source": [
        "for i in range(0, len(lista_variancias_numericos)):\n",
        "    mediana_dict=[{\"Coluna\": colunas_so_com_numericos[i], \"Desvio padrão\": lista_desvio_padrao_numericos[i]}]\n",
        "    print(mediana_dict)"
      ],
      "execution_count": 13,
      "outputs": [
        {
          "output_type": "stream",
          "text": [
            "[{'Coluna': 'Life expectancy ', 'Desvio padrão': 9.523867487824278}]\n",
            "[{'Coluna': 'Adult Mortality', 'Desvio padrão': 124.29207900342202}]\n",
            "[{'Coluna': 'infant deaths', 'Desvio padrão': 117.9265013133981}]\n",
            "[{'Coluna': 'Alcohol', 'Desvio padrão': 4.052412658755652}]\n",
            "[{'Coluna': 'percentage expenditure', 'Desvio padrão': 1987.9148580161984}]\n",
            "[{'Coluna': 'Hepatitis B', 'Desvio padrão': 25.070015593018123}]\n",
            "[{'Coluna': 'Measles ', 'Desvio padrão': 11467.272489234567}]\n",
            "[{'Coluna': ' BMI ', 'Desvio padrão': 20.044033502562073}]\n",
            "[{'Coluna': 'under-five deaths ', 'Desvio padrão': 160.4455484057342}]\n",
            "[{'Coluna': 'Polio', 'Desvio padrão': 23.42804594946845}]\n",
            "[{'Coluna': 'Total expenditure', 'Desvio padrão': 2.4983196721556302}]\n",
            "[{'Coluna': 'Diphtheria ', 'Desvio padrão': 23.716912068572515}]\n",
            "[{'Coluna': ' HIV/AIDS', 'Desvio padrão': 5.077784531086524}]\n",
            "[{'Coluna': 'GDP', 'Desvio padrão': 14270.16934151599}]\n",
            "[{'Coluna': 'Population', 'Desvio padrão': 61012096.50842798}]\n",
            "[{'Coluna': ' thinness  1-19 years', 'Desvio padrão': 4.420194947144306}]\n",
            "[{'Coluna': ' thinness 5-9 years', 'Desvio padrão': 4.508882086983003}]\n",
            "[{'Coluna': 'Income composition of resources', 'Desvio padrão': 0.21090355515159337}]\n",
            "[{'Coluna': 'Schooling', 'Desvio padrão': 3.3589197211023656}]\n"
          ],
          "name": "stdout"
        }
      ]
    },
    {
      "cell_type": "markdown",
      "metadata": {
        "id": "5LM5uZBva7Tk"
      },
      "source": [
        "### Outlier Detection and Visualization"
      ]
    },
    {
      "cell_type": "code",
      "metadata": {
        "id": "uO4xNKIcY3tY",
        "outputId": "0a8e4c5a-b5fb-4cc9-ec6a-cfb937296a05",
        "colab": {
          "base_uri": "https://localhost:8080/",
          "height": 279
        }
      },
      "source": [
        "import seaborn as sns\n",
        "bp1 = sns.boxplot(x=df[\"Life expectancy \"])"
      ],
      "execution_count": 31,
      "outputs": [
        {
          "output_type": "display_data",
          "data": {
            "image/png": "[encoded data removed]",
            "text/plain": [
              "<Figure size 432x288 with 1 Axes>"
            ]
          },
          "metadata": {
            "tags": [],
            "needs_background": "light"
          }
        }
      ]
    },
    {
      "cell_type": "code",
      "metadata": {
        "id": "o-QBThd2e87F",
        "outputId": "d97ceae9-e93f-4222-a55a-157289e27f91",
        "colab": {
          "base_uri": "https://localhost:8080/",
          "height": 279
        }
      },
      "source": [
        "bp2 = sns.boxplot(x=df.Alcohol)"
      ],
      "execution_count": 30,
      "outputs": [
        {
          "output_type": "display_data",
          "data": {
            "image/png": "[encoded data removed]",
            "text/plain": [
              "<Figure size 432x288 with 1 Axes>"
            ]
          },
          "metadata": {
            "tags": [],
            "needs_background": "light"
          }
        }
      ]
    }
  ]
}