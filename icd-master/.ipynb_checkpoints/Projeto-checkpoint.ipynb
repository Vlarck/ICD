{
 "cells": [
  {
   "cell_type": "markdown",
   "metadata": {},
   "source": [
    "# Introdução à Ciência de Dados - UFPB\n",
    "Professor: Yuri Malheiros\n",
    "\n",
    "## Correlação"
   ]
  },
  {
   "cell_type": "markdown",
   "metadata": {},
   "source": [
    "Colete os seguintes dados dos times do campeonato brasileiro de 2019:\n",
    "\n",
    "- Pontos\n",
    "- Gols marcados\n",
    "- Gol sofridos\n",
    "\n",
    "Você pode encontrar esses dados no site da CBF (www.cbf.com.br)\n",
    "\n",
    "Calcule a correlação entre:\n",
    "\n",
    "- Pontos e gols marcados\n",
    "- Pontos e gols sofridos"
   ]
  },
  {
   "cell_type": "markdown",
   "metadata": {},
   "source": [
    "### Correlação entre Pontos e gols marcados"
   ]
  },
  {
   "cell_type": "code",
   "execution_count": 37,
   "metadata": {},
   "outputs": [
    {
     "data": {
      "text/html": [
       "<div>\n",
       "<style scoped>\n",
       "    .dataframe tbody tr th:only-of-type {\n",
       "        vertical-align: middle;\n",
       "    }\n",
       "\n",
       "    .dataframe tbody tr th {\n",
       "        vertical-align: top;\n",
       "    }\n",
       "\n",
       "    .dataframe thead th {\n",
       "        text-align: right;\n",
       "    }\n",
       "</style>\n",
       "<table border=\"1\" class=\"dataframe\">\n",
       "  <thead>\n",
       "    <tr style=\"text-align: right;\">\n",
       "      <th></th>\n",
       "      <th>Posição</th>\n",
       "      <th>PTS</th>\n",
       "      <th>GP</th>\n",
       "      <th>GC</th>\n",
       "    </tr>\n",
       "  </thead>\n",
       "  <tbody>\n",
       "    <tr>\n",
       "      <th>0</th>\n",
       "      <td>1º  0  Flamengo - RJ</td>\n",
       "      <td>90</td>\n",
       "      <td>86</td>\n",
       "      <td>37</td>\n",
       "    </tr>\n",
       "    <tr>\n",
       "      <th>1</th>\n",
       "      <td>2º  0  Santos - SP</td>\n",
       "      <td>74</td>\n",
       "      <td>60</td>\n",
       "      <td>33</td>\n",
       "    </tr>\n",
       "    <tr>\n",
       "      <th>2</th>\n",
       "      <td>3º  0  Palmeiras - SP</td>\n",
       "      <td>74</td>\n",
       "      <td>61</td>\n",
       "      <td>32</td>\n",
       "    </tr>\n",
       "    <tr>\n",
       "      <th>3</th>\n",
       "      <td>4º  0  Grêmio - RS</td>\n",
       "      <td>65</td>\n",
       "      <td>64</td>\n",
       "      <td>39</td>\n",
       "    </tr>\n",
       "    <tr>\n",
       "      <th>4</th>\n",
       "      <td>5º  0  Athletico Paranaense - PR</td>\n",
       "      <td>64</td>\n",
       "      <td>51</td>\n",
       "      <td>32</td>\n",
       "    </tr>\n",
       "    <tr>\n",
       "      <th>5</th>\n",
       "      <td>6º  0  São Paulo - SP</td>\n",
       "      <td>63</td>\n",
       "      <td>39</td>\n",
       "      <td>30</td>\n",
       "    </tr>\n",
       "    <tr>\n",
       "      <th>6</th>\n",
       "      <td>7º  +1  Internacional - RS</td>\n",
       "      <td>57</td>\n",
       "      <td>44</td>\n",
       "      <td>38</td>\n",
       "    </tr>\n",
       "    <tr>\n",
       "      <th>7</th>\n",
       "      <td>8º  -1  Corinthians - SP</td>\n",
       "      <td>56</td>\n",
       "      <td>42</td>\n",
       "      <td>34</td>\n",
       "    </tr>\n",
       "    <tr>\n",
       "      <th>8</th>\n",
       "      <td>9º  0  Fortaleza - CE</td>\n",
       "      <td>53</td>\n",
       "      <td>50</td>\n",
       "      <td>49</td>\n",
       "    </tr>\n",
       "    <tr>\n",
       "      <th>9</th>\n",
       "      <td>10º  0  Goiás - GO</td>\n",
       "      <td>52</td>\n",
       "      <td>46</td>\n",
       "      <td>64</td>\n",
       "    </tr>\n",
       "    <tr>\n",
       "      <th>10</th>\n",
       "      <td>11º  0  Bahia - BA</td>\n",
       "      <td>49</td>\n",
       "      <td>44</td>\n",
       "      <td>43</td>\n",
       "    </tr>\n",
       "    <tr>\n",
       "      <th>11</th>\n",
       "      <td>12º  +1  Vasco da Gama - RJ</td>\n",
       "      <td>49</td>\n",
       "      <td>39</td>\n",
       "      <td>45</td>\n",
       "    </tr>\n",
       "    <tr>\n",
       "      <th>12</th>\n",
       "      <td>13º  -1  Atlético - MG</td>\n",
       "      <td>48</td>\n",
       "      <td>44</td>\n",
       "      <td>49</td>\n",
       "    </tr>\n",
       "    <tr>\n",
       "      <th>13</th>\n",
       "      <td>14º  0  Fluminense - RJ</td>\n",
       "      <td>46</td>\n",
       "      <td>38</td>\n",
       "      <td>46</td>\n",
       "    </tr>\n",
       "    <tr>\n",
       "      <th>14</th>\n",
       "      <td>15º  0  Botafogo - RJ</td>\n",
       "      <td>43</td>\n",
       "      <td>31</td>\n",
       "      <td>45</td>\n",
       "    </tr>\n",
       "    <tr>\n",
       "      <th>15</th>\n",
       "      <td>16º  0  Ceará - CE</td>\n",
       "      <td>39</td>\n",
       "      <td>36</td>\n",
       "      <td>41</td>\n",
       "    </tr>\n",
       "    <tr>\n",
       "      <th>16</th>\n",
       "      <td>17º  0  Cruzeiro - MG</td>\n",
       "      <td>36</td>\n",
       "      <td>27</td>\n",
       "      <td>46</td>\n",
       "    </tr>\n",
       "    <tr>\n",
       "      <th>17</th>\n",
       "      <td>18º  0  Csa - AL</td>\n",
       "      <td>32</td>\n",
       "      <td>24</td>\n",
       "      <td>58</td>\n",
       "    </tr>\n",
       "    <tr>\n",
       "      <th>18</th>\n",
       "      <td>19º  0  Chapecoense - SC</td>\n",
       "      <td>32</td>\n",
       "      <td>31</td>\n",
       "      <td>52</td>\n",
       "    </tr>\n",
       "    <tr>\n",
       "      <th>19</th>\n",
       "      <td>20º  0  Avaí - SC</td>\n",
       "      <td>20</td>\n",
       "      <td>18</td>\n",
       "      <td>62</td>\n",
       "    </tr>\n",
       "  </tbody>\n",
       "</table>\n",
       "</div>"
      ],
      "text/plain": [
       "                             Posição  PTS  GP  GC\n",
       "0               1º  0  Flamengo - RJ   90  86  37\n",
       "1                 2º  0  Santos - SP   74  60  33\n",
       "2              3º  0  Palmeiras - SP   74  61  32\n",
       "3                 4º  0  Grêmio - RS   65  64  39\n",
       "4   5º  0  Athletico Paranaense - PR   64  51  32\n",
       "5              6º  0  São Paulo - SP   63  39  30\n",
       "6         7º  +1  Internacional - RS   57  44  38\n",
       "7           8º  -1  Corinthians - SP   56  42  34\n",
       "8              9º  0  Fortaleza - CE   53  50  49\n",
       "9                 10º  0  Goiás - GO   52  46  64\n",
       "10                11º  0  Bahia - BA   49  44  43\n",
       "11       12º  +1  Vasco da Gama - RJ   49  39  45\n",
       "12            13º  -1  Atlético - MG   48  44  49\n",
       "13           14º  0  Fluminense - RJ   46  38  46\n",
       "14             15º  0  Botafogo - RJ   43  31  45\n",
       "15                16º  0  Ceará - CE   39  36  41\n",
       "16             17º  0  Cruzeiro - MG   36  27  46\n",
       "17                  18º  0  Csa - AL   32  24  58\n",
       "18          19º  0  Chapecoense - SC   32  31  52\n",
       "19                 20º  0  Avaí - SC   20  18  62"
      ]
     },
     "execution_count": 37,
     "metadata": {},
     "output_type": "execute_result"
    }
   ],
   "source": [
    "import pandas as pd\n",
    "dfs = pd.read_html('https://www.cbf.com.br/futebol-brasileiro/competicoes/campeonato-brasileiro-serie-a/2019', header=0)\n",
    "df=dfs[0]\n",
    "df[[\"Posição\", \"PTS\", \"GP\", \"GC\"]]"
   ]
  },
  {
   "cell_type": "code",
   "execution_count": 32,
   "metadata": {},
   "outputs": [
    {
     "data": {
      "text/html": [
       "<div>\n",
       "<style scoped>\n",
       "    .dataframe tbody tr th:only-of-type {\n",
       "        vertical-align: middle;\n",
       "    }\n",
       "\n",
       "    .dataframe tbody tr th {\n",
       "        vertical-align: top;\n",
       "    }\n",
       "\n",
       "    .dataframe thead th {\n",
       "        text-align: right;\n",
       "    }\n",
       "</style>\n",
       "<table border=\"1\" class=\"dataframe\">\n",
       "  <thead>\n",
       "    <tr style=\"text-align: right;\">\n",
       "      <th></th>\n",
       "      <th>PTS</th>\n",
       "      <th>GP</th>\n",
       "    </tr>\n",
       "  </thead>\n",
       "  <tbody>\n",
       "    <tr>\n",
       "      <th>PTS</th>\n",
       "      <td>1.000000</td>\n",
       "      <td>0.936469</td>\n",
       "    </tr>\n",
       "    <tr>\n",
       "      <th>GP</th>\n",
       "      <td>0.936469</td>\n",
       "      <td>1.000000</td>\n",
       "    </tr>\n",
       "  </tbody>\n",
       "</table>\n",
       "</div>"
      ],
      "text/plain": [
       "          PTS        GP\n",
       "PTS  1.000000  0.936469\n",
       "GP   0.936469  1.000000"
      ]
     },
     "execution_count": 32,
     "metadata": {},
     "output_type": "execute_result"
    }
   ],
   "source": [
    "# ADICIONE O SEU CÓDIGO AQUI\n",
    "df[[\"PTS\", \"GP\"]].corr()"
   ]
  },
  {
   "cell_type": "markdown",
   "metadata": {},
   "source": [
    "### Correlação entre Pontos e gols sofridos"
   ]
  },
  {
   "cell_type": "code",
   "execution_count": 38,
   "metadata": {},
   "outputs": [
    {
     "data": {
      "text/html": [
       "<div>\n",
       "<style scoped>\n",
       "    .dataframe tbody tr th:only-of-type {\n",
       "        vertical-align: middle;\n",
       "    }\n",
       "\n",
       "    .dataframe tbody tr th {\n",
       "        vertical-align: top;\n",
       "    }\n",
       "\n",
       "    .dataframe thead th {\n",
       "        text-align: right;\n",
       "    }\n",
       "</style>\n",
       "<table border=\"1\" class=\"dataframe\">\n",
       "  <thead>\n",
       "    <tr style=\"text-align: right;\">\n",
       "      <th></th>\n",
       "      <th>PTS</th>\n",
       "      <th>GC</th>\n",
       "    </tr>\n",
       "  </thead>\n",
       "  <tbody>\n",
       "    <tr>\n",
       "      <th>PTS</th>\n",
       "      <td>1.000000</td>\n",
       "      <td>-0.715796</td>\n",
       "    </tr>\n",
       "    <tr>\n",
       "      <th>GC</th>\n",
       "      <td>-0.715796</td>\n",
       "      <td>1.000000</td>\n",
       "    </tr>\n",
       "  </tbody>\n",
       "</table>\n",
       "</div>"
      ],
      "text/plain": [
       "          PTS        GC\n",
       "PTS  1.000000 -0.715796\n",
       "GC  -0.715796  1.000000"
      ]
     },
     "execution_count": 38,
     "metadata": {},
     "output_type": "execute_result"
    }
   ],
   "source": [
    "df[[\"PTS\", \"GC\"]].corr()"
   ]
  },
  {
   "cell_type": "markdown",
   "metadata": {},
   "source": [
    "### Análise dos Resultados\n",
    "\n",
    "Qual o nível (fraco, moderado, forte) das correlações entre as variáveis analisadas?"
   ]
  },
  {
   "cell_type": "markdown",
   "metadata": {},
   "source": [
    "Tanto gols sofridos quanto marcados apresentam forte correlação com os pontos, negativa no caso dos gols sofridos."
   ]
  },
  {
   "cell_type": "markdown",
   "metadata": {},
   "source": [
    "De acordo com os dados analisados, é melhor um time focar em marcar mais gols ou sofrer menos gols?"
   ]
  },
  {
   "cell_type": "markdown",
   "metadata": {},
   "source": [
    "É mais efetivo focar em marcar mais gols por possuir uma correlação mais forte com o número de pontos."
   ]
  }
 ],
 "metadata": {
  "kernelspec": {
   "display_name": "Python 3",
   "language": "python",
   "name": "python3"
  },
  "language_info": {
   "codemirror_mode": {
    "name": "ipython",
    "version": 3
   },
   "file_extension": ".py",
   "mimetype": "text/x-python",
   "name": "python",
   "nbconvert_exporter": "python",
   "pygments_lexer": "ipython3",
   "version": "3.9.2"
  }
 },
 "nbformat": 4,
 "nbformat_minor": 4
}
