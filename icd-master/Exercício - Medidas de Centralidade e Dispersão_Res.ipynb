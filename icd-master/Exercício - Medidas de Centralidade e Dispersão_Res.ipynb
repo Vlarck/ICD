{
 "cells": [
  {
   "cell_type": "markdown",
   "metadata": {},
   "source": [
    "# Introdução à Ciência de Dados - UFPB\n",
    "Professor: Yuri Malheiros\n",
    "\n",
    "## Medidas de Centralidade e Dispersão"
   ]
  },
  {
   "cell_type": "markdown",
   "metadata": {},
   "source": [
    "A partir do dataset `movies.csv` calcule a média, mediana e desvio padrão para as colunas:"
   ]
  },
  {
   "cell_type": "markdown",
   "metadata": {},
   "source": [
    "### US Gross"
   ]
  },
  {
   "cell_type": "code",
   "execution_count": 17,
   "metadata": {},
   "outputs": [
    {
     "name": "stdout",
     "output_type": "stream",
     "text": [
      "media: US Gross    4.400209e+07\n",
      "dtype: float64\n",
      "mediana US Gross    22019465.5\n",
      "dtype: float64\n",
      "desvio padrão: US Gross    6.255531e+07\n",
      "dtype: float64\n"
     ]
    }
   ],
   "source": [
    "import pandas as pd\n",
    "movies_df = pd.read_csv(\"./datasets/movies.csv\")\n",
    "print(\"media:\",movies_df[[\"US Gross\"]].mean())\n",
    "print(\"mediana\",movies_df[[\"US Gross\"]].median())\n",
    "print(\"desvio padrão:\",movies_df[[\"US Gross\"]].std())"
   ]
  },
  {
   "cell_type": "markdown",
   "metadata": {},
   "source": [
    "### Production Budget"
   ]
  },
  {
   "cell_type": "code",
   "execution_count": 3,
   "metadata": {},
   "outputs": [
    {
     "name": "stdout",
     "output_type": "stream",
     "text": [
      "media: Production Budget    3.106917e+07\n",
      "dtype: float64\n",
      "mediana Production Budget    20000000.0\n",
      "dtype: float64\n",
      "desvio padrão: Production Budget    3.558591e+07\n",
      "dtype: float64\n"
     ]
    }
   ],
   "source": [
    "print(\"media:\",movies_df[[\"Production Budget\"]].mean())\n",
    "print(\"mediana\",movies_df[[\"Production Budget\"]].median())\n",
    "print(\"desvio padrão:\",movies_df[[\"Production Budget\"]].std())"
   ]
  },
  {
   "cell_type": "markdown",
   "metadata": {},
   "source": [
    "### Running Time"
   ]
  },
  {
   "cell_type": "code",
   "execution_count": 4,
   "metadata": {},
   "outputs": [
    {
     "name": "stdout",
     "output_type": "stream",
     "text": [
      "media: Running Time (min)    110.193548\n",
      "dtype: float64\n",
      "mediana Running Time (min)    107.0\n",
      "dtype: float64\n",
      "desvio padrão: Running Time (min)    20.171014\n",
      "dtype: float64\n"
     ]
    }
   ],
   "source": [
    "print(\"media:\",movies_df[[\"Running Time (min)\"]].mean())\n",
    "print(\"mediana\",movies_df[[\"Running Time (min)\"]].median())\n",
    "print(\"desvio padrão:\",movies_df[[\"Running Time (min)\"]].std())"
   ]
  },
  {
   "cell_type": "markdown",
   "metadata": {},
   "source": [
    "### IMDB Rating"
   ]
  },
  {
   "cell_type": "code",
   "execution_count": 5,
   "metadata": {},
   "outputs": [
    {
     "name": "stdout",
     "output_type": "stream",
     "text": [
      "media: IMDB Rating    6.283467\n",
      "dtype: float64\n",
      "mediana IMDB Rating    6.4\n",
      "dtype: float64\n",
      "desvio padrão: IMDB Rating    1.25229\n",
      "dtype: float64\n"
     ]
    }
   ],
   "source": [
    "print(\"media:\",movies_df[[\"IMDB Rating\"]].mean())\n",
    "print(\"mediana\",movies_df[[\"IMDB Rating\"]].median())\n",
    "print(\"desvio padrão:\",movies_df[[\"IMDB Rating\"]].std())"
   ]
  },
  {
   "cell_type": "markdown",
   "metadata": {},
   "source": [
    "### IMDB Votes"
   ]
  },
  {
   "cell_type": "code",
   "execution_count": 12,
   "metadata": {},
   "outputs": [
    {
     "name": "stdout",
     "output_type": "stream",
     "text": [
      "media: IMDB Votes    29908.644578\n",
      "dtype: float64\n",
      "mediana IMDB Votes    15106.0\n",
      "dtype: float64\n",
      "desvio padrão: IMDB Votes    44937.582335\n",
      "dtype: float64\n"
     ]
    }
   ],
   "source": [
    "print(\"media:\",movies_df[[\"IMDB Votes\"]].mean())\n",
    "print(\"mediana\",movies_df[[\"IMDB Votes\"]].median())\n",
    "print(\"desvio padrão:\",movies_df[[\"IMDB Votes\"]].std())"
   ]
  },
  {
   "cell_type": "markdown",
   "metadata": {},
   "source": [
    "### Análise dos Resultados\n",
    "\n",
    "Quais colunas tiveram valores muito diferentes entre média e mediana? Quais os seus desvios padrão?Que conclusões podemos tirar desses resultados?"
   ]
  },
  {
   "cell_type": "markdown",
   "metadata": {},
   "source": [
    "IMDB Votes, DP=44937, implica que há uma grande quantidade de filmes sem avaliações suficientes para que se tenha uma noção da qualidade da produção e aceitação do público.\n",
    "\n",
    "Production Budget, DP= 3.558591e+07\n",
    "Us Gross, DP= 6.255531e+07\n",
    "Esses número mostram que há disparidade absurda entre os valores aplicados para a produção de cada filme, assim como os lucros nos EUA que tambem mostram uma variação enorme no retorno financeiro resultante dos filmes da base de dados."
   ]
  }
 ],
 "metadata": {
  "kernelspec": {
   "display_name": "Python 3",
   "language": "python",
   "name": "python3"
  },
  "language_info": {
   "codemirror_mode": {
    "name": "ipython",
    "version": 3
   },
   "file_extension": ".py",
   "mimetype": "text/x-python",
   "name": "python",
   "nbconvert_exporter": "python",
   "pygments_lexer": "ipython3",
   "version": "3.9.2"
  }
 },
 "nbformat": 4,
 "nbformat_minor": 4
}
