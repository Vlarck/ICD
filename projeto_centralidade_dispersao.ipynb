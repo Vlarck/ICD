{
 "cells": [
  {
   "cell_type": "code",
   "execution_count": 1,
   "metadata": {
    "id": "CR_tIBe0Y3s_"
   },
   "outputs": [],
   "source": [
    "import pandas as pd\n",
    "import matplotlib.pyplot as plt"
   ]
  },
  {
   "cell_type": "code",
   "execution_count": 2,
   "metadata": {
    "colab": {
     "base_uri": "https://localhost:8080/",
     "height": 490
    },
    "id": "CpaVR1e6Y3tM",
    "outputId": "98f2f33c-06c9-44c6-b515-e65c594c0ae3"
   },
   "outputs": [
    {
     "data": {
      "text/html": [
       "<div>\n",
       "<style scoped>\n",
       "    .dataframe tbody tr th:only-of-type {\n",
       "        vertical-align: middle;\n",
       "    }\n",
       "\n",
       "    .dataframe tbody tr th {\n",
       "        vertical-align: top;\n",
       "    }\n",
       "\n",
       "    .dataframe thead th {\n",
       "        text-align: right;\n",
       "    }\n",
       "</style>\n",
       "<table border=\"1\" class=\"dataframe\">\n",
       "  <thead>\n",
       "    <tr style=\"text-align: right;\">\n",
       "      <th></th>\n",
       "      <th>Country</th>\n",
       "      <th>Year</th>\n",
       "      <th>Status</th>\n",
       "      <th>Life expectancy</th>\n",
       "      <th>Adult Mortality</th>\n",
       "      <th>infant deaths</th>\n",
       "      <th>Alcohol</th>\n",
       "      <th>percentage expenditure</th>\n",
       "      <th>Hepatitis B</th>\n",
       "      <th>Measles</th>\n",
       "      <th>...</th>\n",
       "      <th>Polio</th>\n",
       "      <th>Total expenditure</th>\n",
       "      <th>Diphtheria</th>\n",
       "      <th>HIV/AIDS</th>\n",
       "      <th>GDP</th>\n",
       "      <th>Population</th>\n",
       "      <th>thinness  1-19 years</th>\n",
       "      <th>thinness 5-9 years</th>\n",
       "      <th>Income composition of resources</th>\n",
       "      <th>Schooling</th>\n",
       "    </tr>\n",
       "  </thead>\n",
       "  <tbody>\n",
       "    <tr>\n",
       "      <th>0</th>\n",
       "      <td>Afghanistan</td>\n",
       "      <td>2015</td>\n",
       "      <td>Developing</td>\n",
       "      <td>65.0</td>\n",
       "      <td>263.0</td>\n",
       "      <td>62</td>\n",
       "      <td>0.01</td>\n",
       "      <td>71.279624</td>\n",
       "      <td>65.0</td>\n",
       "      <td>1154</td>\n",
       "      <td>...</td>\n",
       "      <td>6.0</td>\n",
       "      <td>8.16</td>\n",
       "      <td>65.0</td>\n",
       "      <td>0.1</td>\n",
       "      <td>584.259210</td>\n",
       "      <td>33736494.0</td>\n",
       "      <td>17.2</td>\n",
       "      <td>17.3</td>\n",
       "      <td>0.479</td>\n",
       "      <td>10.1</td>\n",
       "    </tr>\n",
       "    <tr>\n",
       "      <th>1</th>\n",
       "      <td>Afghanistan</td>\n",
       "      <td>2014</td>\n",
       "      <td>Developing</td>\n",
       "      <td>59.9</td>\n",
       "      <td>271.0</td>\n",
       "      <td>64</td>\n",
       "      <td>0.01</td>\n",
       "      <td>73.523582</td>\n",
       "      <td>62.0</td>\n",
       "      <td>492</td>\n",
       "      <td>...</td>\n",
       "      <td>58.0</td>\n",
       "      <td>8.18</td>\n",
       "      <td>62.0</td>\n",
       "      <td>0.1</td>\n",
       "      <td>612.696514</td>\n",
       "      <td>327582.0</td>\n",
       "      <td>17.5</td>\n",
       "      <td>17.5</td>\n",
       "      <td>0.476</td>\n",
       "      <td>10.0</td>\n",
       "    </tr>\n",
       "    <tr>\n",
       "      <th>2</th>\n",
       "      <td>Afghanistan</td>\n",
       "      <td>2013</td>\n",
       "      <td>Developing</td>\n",
       "      <td>59.9</td>\n",
       "      <td>268.0</td>\n",
       "      <td>66</td>\n",
       "      <td>0.01</td>\n",
       "      <td>73.219243</td>\n",
       "      <td>64.0</td>\n",
       "      <td>430</td>\n",
       "      <td>...</td>\n",
       "      <td>62.0</td>\n",
       "      <td>8.13</td>\n",
       "      <td>64.0</td>\n",
       "      <td>0.1</td>\n",
       "      <td>631.744976</td>\n",
       "      <td>31731688.0</td>\n",
       "      <td>17.7</td>\n",
       "      <td>17.7</td>\n",
       "      <td>0.470</td>\n",
       "      <td>9.9</td>\n",
       "    </tr>\n",
       "    <tr>\n",
       "      <th>3</th>\n",
       "      <td>Afghanistan</td>\n",
       "      <td>2012</td>\n",
       "      <td>Developing</td>\n",
       "      <td>59.5</td>\n",
       "      <td>272.0</td>\n",
       "      <td>69</td>\n",
       "      <td>0.01</td>\n",
       "      <td>78.184215</td>\n",
       "      <td>67.0</td>\n",
       "      <td>2787</td>\n",
       "      <td>...</td>\n",
       "      <td>67.0</td>\n",
       "      <td>8.52</td>\n",
       "      <td>67.0</td>\n",
       "      <td>0.1</td>\n",
       "      <td>669.959000</td>\n",
       "      <td>3696958.0</td>\n",
       "      <td>17.9</td>\n",
       "      <td>18.0</td>\n",
       "      <td>0.463</td>\n",
       "      <td>9.8</td>\n",
       "    </tr>\n",
       "    <tr>\n",
       "      <th>4</th>\n",
       "      <td>Afghanistan</td>\n",
       "      <td>2011</td>\n",
       "      <td>Developing</td>\n",
       "      <td>59.2</td>\n",
       "      <td>275.0</td>\n",
       "      <td>71</td>\n",
       "      <td>0.01</td>\n",
       "      <td>7.097109</td>\n",
       "      <td>68.0</td>\n",
       "      <td>3013</td>\n",
       "      <td>...</td>\n",
       "      <td>68.0</td>\n",
       "      <td>7.87</td>\n",
       "      <td>68.0</td>\n",
       "      <td>0.1</td>\n",
       "      <td>63.537231</td>\n",
       "      <td>2978599.0</td>\n",
       "      <td>18.2</td>\n",
       "      <td>18.2</td>\n",
       "      <td>0.454</td>\n",
       "      <td>9.5</td>\n",
       "    </tr>\n",
       "    <tr>\n",
       "      <th>...</th>\n",
       "      <td>...</td>\n",
       "      <td>...</td>\n",
       "      <td>...</td>\n",
       "      <td>...</td>\n",
       "      <td>...</td>\n",
       "      <td>...</td>\n",
       "      <td>...</td>\n",
       "      <td>...</td>\n",
       "      <td>...</td>\n",
       "      <td>...</td>\n",
       "      <td>...</td>\n",
       "      <td>...</td>\n",
       "      <td>...</td>\n",
       "      <td>...</td>\n",
       "      <td>...</td>\n",
       "      <td>...</td>\n",
       "      <td>...</td>\n",
       "      <td>...</td>\n",
       "      <td>...</td>\n",
       "      <td>...</td>\n",
       "      <td>...</td>\n",
       "    </tr>\n",
       "    <tr>\n",
       "      <th>2933</th>\n",
       "      <td>Zimbabwe</td>\n",
       "      <td>2004</td>\n",
       "      <td>Developing</td>\n",
       "      <td>44.3</td>\n",
       "      <td>723.0</td>\n",
       "      <td>27</td>\n",
       "      <td>4.36</td>\n",
       "      <td>0.000000</td>\n",
       "      <td>68.0</td>\n",
       "      <td>31</td>\n",
       "      <td>...</td>\n",
       "      <td>67.0</td>\n",
       "      <td>7.13</td>\n",
       "      <td>65.0</td>\n",
       "      <td>33.6</td>\n",
       "      <td>454.366654</td>\n",
       "      <td>12777511.0</td>\n",
       "      <td>9.4</td>\n",
       "      <td>9.4</td>\n",
       "      <td>0.407</td>\n",
       "      <td>9.2</td>\n",
       "    </tr>\n",
       "    <tr>\n",
       "      <th>2934</th>\n",
       "      <td>Zimbabwe</td>\n",
       "      <td>2003</td>\n",
       "      <td>Developing</td>\n",
       "      <td>44.5</td>\n",
       "      <td>715.0</td>\n",
       "      <td>26</td>\n",
       "      <td>4.06</td>\n",
       "      <td>0.000000</td>\n",
       "      <td>7.0</td>\n",
       "      <td>998</td>\n",
       "      <td>...</td>\n",
       "      <td>7.0</td>\n",
       "      <td>6.52</td>\n",
       "      <td>68.0</td>\n",
       "      <td>36.7</td>\n",
       "      <td>453.351155</td>\n",
       "      <td>12633897.0</td>\n",
       "      <td>9.8</td>\n",
       "      <td>9.9</td>\n",
       "      <td>0.418</td>\n",
       "      <td>9.5</td>\n",
       "    </tr>\n",
       "    <tr>\n",
       "      <th>2935</th>\n",
       "      <td>Zimbabwe</td>\n",
       "      <td>2002</td>\n",
       "      <td>Developing</td>\n",
       "      <td>44.8</td>\n",
       "      <td>73.0</td>\n",
       "      <td>25</td>\n",
       "      <td>4.43</td>\n",
       "      <td>0.000000</td>\n",
       "      <td>73.0</td>\n",
       "      <td>304</td>\n",
       "      <td>...</td>\n",
       "      <td>73.0</td>\n",
       "      <td>6.53</td>\n",
       "      <td>71.0</td>\n",
       "      <td>39.8</td>\n",
       "      <td>57.348340</td>\n",
       "      <td>125525.0</td>\n",
       "      <td>1.2</td>\n",
       "      <td>1.3</td>\n",
       "      <td>0.427</td>\n",
       "      <td>10.0</td>\n",
       "    </tr>\n",
       "    <tr>\n",
       "      <th>2936</th>\n",
       "      <td>Zimbabwe</td>\n",
       "      <td>2001</td>\n",
       "      <td>Developing</td>\n",
       "      <td>45.3</td>\n",
       "      <td>686.0</td>\n",
       "      <td>25</td>\n",
       "      <td>1.72</td>\n",
       "      <td>0.000000</td>\n",
       "      <td>76.0</td>\n",
       "      <td>529</td>\n",
       "      <td>...</td>\n",
       "      <td>76.0</td>\n",
       "      <td>6.16</td>\n",
       "      <td>75.0</td>\n",
       "      <td>42.1</td>\n",
       "      <td>548.587312</td>\n",
       "      <td>12366165.0</td>\n",
       "      <td>1.6</td>\n",
       "      <td>1.7</td>\n",
       "      <td>0.427</td>\n",
       "      <td>9.8</td>\n",
       "    </tr>\n",
       "    <tr>\n",
       "      <th>2937</th>\n",
       "      <td>Zimbabwe</td>\n",
       "      <td>2000</td>\n",
       "      <td>Developing</td>\n",
       "      <td>46.0</td>\n",
       "      <td>665.0</td>\n",
       "      <td>24</td>\n",
       "      <td>1.68</td>\n",
       "      <td>0.000000</td>\n",
       "      <td>79.0</td>\n",
       "      <td>1483</td>\n",
       "      <td>...</td>\n",
       "      <td>78.0</td>\n",
       "      <td>7.10</td>\n",
       "      <td>78.0</td>\n",
       "      <td>43.5</td>\n",
       "      <td>547.358879</td>\n",
       "      <td>12222251.0</td>\n",
       "      <td>11.0</td>\n",
       "      <td>11.2</td>\n",
       "      <td>0.434</td>\n",
       "      <td>9.8</td>\n",
       "    </tr>\n",
       "  </tbody>\n",
       "</table>\n",
       "<p>2938 rows × 22 columns</p>\n",
       "</div>"
      ],
      "text/plain": [
       "          Country  Year      Status  Life expectancy   Adult Mortality  \\\n",
       "0     Afghanistan  2015  Developing              65.0            263.0   \n",
       "1     Afghanistan  2014  Developing              59.9            271.0   \n",
       "2     Afghanistan  2013  Developing              59.9            268.0   \n",
       "3     Afghanistan  2012  Developing              59.5            272.0   \n",
       "4     Afghanistan  2011  Developing              59.2            275.0   \n",
       "...           ...   ...         ...               ...              ...   \n",
       "2933     Zimbabwe  2004  Developing              44.3            723.0   \n",
       "2934     Zimbabwe  2003  Developing              44.5            715.0   \n",
       "2935     Zimbabwe  2002  Developing              44.8             73.0   \n",
       "2936     Zimbabwe  2001  Developing              45.3            686.0   \n",
       "2937     Zimbabwe  2000  Developing              46.0            665.0   \n",
       "\n",
       "      infant deaths  Alcohol  percentage expenditure  Hepatitis B  Measles   \\\n",
       "0                62     0.01               71.279624         65.0      1154   \n",
       "1                64     0.01               73.523582         62.0       492   \n",
       "2                66     0.01               73.219243         64.0       430   \n",
       "3                69     0.01               78.184215         67.0      2787   \n",
       "4                71     0.01                7.097109         68.0      3013   \n",
       "...             ...      ...                     ...          ...       ...   \n",
       "2933             27     4.36                0.000000         68.0        31   \n",
       "2934             26     4.06                0.000000          7.0       998   \n",
       "2935             25     4.43                0.000000         73.0       304   \n",
       "2936             25     1.72                0.000000         76.0       529   \n",
       "2937             24     1.68                0.000000         79.0      1483   \n",
       "\n",
       "      ...  Polio  Total expenditure  Diphtheria    HIV/AIDS         GDP  \\\n",
       "0     ...    6.0               8.16         65.0        0.1  584.259210   \n",
       "1     ...   58.0               8.18         62.0        0.1  612.696514   \n",
       "2     ...   62.0               8.13         64.0        0.1  631.744976   \n",
       "3     ...   67.0               8.52         67.0        0.1  669.959000   \n",
       "4     ...   68.0               7.87         68.0        0.1   63.537231   \n",
       "...   ...    ...                ...          ...        ...         ...   \n",
       "2933  ...   67.0               7.13         65.0       33.6  454.366654   \n",
       "2934  ...    7.0               6.52         68.0       36.7  453.351155   \n",
       "2935  ...   73.0               6.53         71.0       39.8   57.348340   \n",
       "2936  ...   76.0               6.16         75.0       42.1  548.587312   \n",
       "2937  ...   78.0               7.10         78.0       43.5  547.358879   \n",
       "\n",
       "      Population   thinness  1-19 years   thinness 5-9 years  \\\n",
       "0     33736494.0                   17.2                 17.3   \n",
       "1       327582.0                   17.5                 17.5   \n",
       "2     31731688.0                   17.7                 17.7   \n",
       "3      3696958.0                   17.9                 18.0   \n",
       "4      2978599.0                   18.2                 18.2   \n",
       "...          ...                    ...                  ...   \n",
       "2933  12777511.0                    9.4                  9.4   \n",
       "2934  12633897.0                    9.8                  9.9   \n",
       "2935    125525.0                    1.2                  1.3   \n",
       "2936  12366165.0                    1.6                  1.7   \n",
       "2937  12222251.0                   11.0                 11.2   \n",
       "\n",
       "      Income composition of resources  Schooling  \n",
       "0                               0.479       10.1  \n",
       "1                               0.476       10.0  \n",
       "2                               0.470        9.9  \n",
       "3                               0.463        9.8  \n",
       "4                               0.454        9.5  \n",
       "...                               ...        ...  \n",
       "2933                            0.407        9.2  \n",
       "2934                            0.418        9.5  \n",
       "2935                            0.427       10.0  \n",
       "2936                            0.427        9.8  \n",
       "2937                            0.434        9.8  \n",
       "\n",
       "[2938 rows x 22 columns]"
      ]
     },
     "execution_count": 2,
     "metadata": {},
     "output_type": "execute_result"
    }
   ],
   "source": [
    "df = pd.read_csv(\"https://raw.githubusercontent.com/Vlarck/ICD/main/Projeto/datasets/LED.csv\")\n",
    "df"
   ]
  },
  {
   "cell_type": "code",
   "execution_count": 13,
   "metadata": {},
   "outputs": [],
   "source": [
    "oldcols = list(df.columns)\n",
    "newcols = []\n",
    "for col in oldcols:\n",
    "    newcols.append(col.strip().replace('  ', ' ').replace(' ', '_').lower())\n",
    "df.columns = newcols"
   ]
  },
  {
   "cell_type": "code",
   "execution_count": 14,
   "metadata": {
    "colab": {
     "base_uri": "https://localhost:8080/"
    },
    "id": "7s5NO4CyY3tS",
    "outputId": "79b56095-8b7f-4cb1-be79-fa84b539de4c"
   },
   "outputs": [
    {
     "data": {
      "text/plain": [
       "Index(['life_expectancy', 'adult_mortality', 'infant_deaths', 'alcohol',\n",
       "       'percentage_expenditure', 'hepatitis_b', 'measles', 'bmi',\n",
       "       'under-five_deaths', 'polio', 'total_expenditure', 'diphtheria',\n",
       "       'hiv/aids', 'gdp', 'population', 'thinness_1-19_years',\n",
       "       'thinness_5-9_years', 'income_composition_of_resources', 'schooling'],\n",
       "      dtype='object')"
      ]
     },
     "execution_count": 14,
     "metadata": {},
     "output_type": "execute_result"
    }
   ],
   "source": [
    "colunas = df.columns # Lista com os títulos das colunas.\n",
    "colunas_so_com_numericos = colunas[3:23] # Deixei apenas valores numéricos(retirei as strings).\n",
    "colunas_so_com_numericos"
   ]
  },
  {
   "cell_type": "code",
   "execution_count": 15,
   "metadata": {
    "id": "BchXUoKAY3tT"
   },
   "outputs": [],
   "source": [
    "lista_medias = df.mean(axis=0).to_list() # Passando as médias das colunas para uma lista.\n",
    "lista_medias_numericos = lista_medias[1:23] # Retirei a médias das colunas dos anos, através de um corte na lista."
   ]
  },
  {
   "cell_type": "code",
   "execution_count": 16,
   "metadata": {
    "id": "PqkYJABBY3tT"
   },
   "outputs": [],
   "source": [
    "lista_medianas = df.median(axis=0).to_list() # Passando as medianas das colunas para uma lista.\n",
    "lista_medianas_numericos = lista_medianas[1:23] # Retirando a mediana da coluna dos anos, novamente."
   ]
  },
  {
   "cell_type": "code",
   "execution_count": 17,
   "metadata": {
    "id": "llHsMmrcY3tU"
   },
   "outputs": [],
   "source": [
    "lista_variancias = df.var(axis=0).to_list() # Passando a variância das colunas para uma lista. \n",
    "lista_variancias_numericos = lista_variancias[1:23] # Retirando a variância da coluna dos anos."
   ]
  },
  {
   "cell_type": "code",
   "execution_count": 18,
   "metadata": {
    "id": "DKPJDfEYY3tV"
   },
   "outputs": [],
   "source": [
    "lista_desvio_padrao = df.std(axis=0).to_list() # Passando o desvio padrão das colunas para uma lista.\n",
    "lista_desvio_padrao_numericos = lista_desvio_padrao[1:23] # Retirando o desvio padrão da coluna dos anos."
   ]
  },
  {
   "cell_type": "code",
   "execution_count": 19,
   "metadata": {
    "colab": {
     "base_uri": "https://localhost:8080/"
    },
    "id": "b7i9sG35Y3tV",
    "outputId": "1d5e78b5-98ff-494b-a4d4-9bf0ac51cf4e"
   },
   "outputs": [
    {
     "name": "stdout",
     "output_type": "stream",
     "text": [
      "[{'Coluna': 'life_expectancy', 'Média': 69.22493169398912}]\n",
      "[{'Coluna': 'adult_mortality', 'Média': 164.79644808743168}]\n",
      "[{'Coluna': 'infant_deaths', 'Média': 30.303948264125257}]\n",
      "[{'Coluna': 'alcohol', 'Média': 4.6028607871720375}]\n",
      "[{'Coluna': 'percentage_expenditure', 'Média': 738.2512954533823}]\n",
      "[{'Coluna': 'hepatitis_b', 'Média': 80.94046121593291}]\n",
      "[{'Coluna': 'measles', 'Média': 2419.5922396187884}]\n",
      "[{'Coluna': 'bmi', 'Média': 38.32124655647373}]\n",
      "[{'Coluna': 'under-five_deaths', 'Média': 42.0357385976855}]\n",
      "[{'Coluna': 'polio', 'Média': 82.55018842069202}]\n",
      "[{'Coluna': 'total_expenditure', 'Média': 5.9381895280235915}]\n",
      "[{'Coluna': 'diphtheria', 'Média': 82.32408359027065}]\n",
      "[{'Coluna': 'hiv/aids', 'Média': 1.7421034717494939}]\n",
      "[{'Coluna': 'gdp', 'Média': 7483.158469138481}]\n",
      "[{'Coluna': 'population', 'Média': 12753375.120052498}]\n",
      "[{'Coluna': 'thinness_1-19_years', 'Média': 4.8397038567493205}]\n",
      "[{'Coluna': 'thinness_5-9_years', 'Média': 4.870316804407711}]\n",
      "[{'Coluna': 'income_composition_of_resources', 'Média': 0.6275510645976166}]\n",
      "[{'Coluna': 'schooling', 'Média': 11.992792792792786}]\n"
     ]
    }
   ],
   "source": [
    "for i in range(0, len(lista_medias_numericos)):\n",
    "    medias_dict = [{\"Coluna\": colunas_so_com_numericos[i], \"Média\": lista_medias_numericos[i]}]\n",
    "    print(medias_dict)"
   ]
  },
  {
   "cell_type": "code",
   "execution_count": 20,
   "metadata": {
    "colab": {
     "base_uri": "https://localhost:8080/"
    },
    "id": "GADx2XqeY3tW",
    "outputId": "7c8d91cb-ab7f-44a7-b857-c0cfd3f3ee83"
   },
   "outputs": [
    {
     "name": "stdout",
     "output_type": "stream",
     "text": [
      "[{'Coluna': 'life_expectancy', 'Mediana': 72.1}]\n",
      "[{'Coluna': 'adult_mortality', 'Mediana': 144.0}]\n",
      "[{'Coluna': 'infant_deaths', 'Mediana': 3.0}]\n",
      "[{'Coluna': 'alcohol', 'Mediana': 3.755}]\n",
      "[{'Coluna': 'percentage_expenditure', 'Mediana': 64.912906045}]\n",
      "[{'Coluna': 'hepatitis_b', 'Mediana': 92.0}]\n",
      "[{'Coluna': 'measles', 'Mediana': 17.0}]\n",
      "[{'Coluna': 'bmi', 'Mediana': 43.5}]\n",
      "[{'Coluna': 'under-five_deaths', 'Mediana': 4.0}]\n",
      "[{'Coluna': 'polio', 'Mediana': 93.0}]\n",
      "[{'Coluna': 'total_expenditure', 'Mediana': 5.755}]\n",
      "[{'Coluna': 'diphtheria', 'Mediana': 93.0}]\n",
      "[{'Coluna': 'hiv/aids', 'Mediana': 0.1}]\n",
      "[{'Coluna': 'gdp', 'Mediana': 1766.947595}]\n",
      "[{'Coluna': 'population', 'Mediana': 1386542.0}]\n",
      "[{'Coluna': 'thinness_1-19_years', 'Mediana': 3.3}]\n",
      "[{'Coluna': 'thinness_5-9_years', 'Mediana': 3.3}]\n",
      "[{'Coluna': 'income_composition_of_resources', 'Mediana': 0.677}]\n",
      "[{'Coluna': 'schooling', 'Mediana': 12.3}]\n"
     ]
    }
   ],
   "source": [
    "for i in range(0, len(lista_medianas_numericos)):\n",
    "    mediana_dict=[{\"Coluna\": colunas_so_com_numericos[i], \"Mediana\": lista_medianas_numericos[i]}]\n",
    "    print(mediana_dict)"
   ]
  },
  {
   "cell_type": "code",
   "execution_count": 21,
   "metadata": {
    "colab": {
     "base_uri": "https://localhost:8080/"
    },
    "id": "Xgb5xz_4Y3tX",
    "outputId": "ef00d6c5-6496-4ca6-ad85-685d9609fb30"
   },
   "outputs": [
    {
     "name": "stdout",
     "output_type": "stream",
     "text": [
      "[{'Coluna': 'life_expectancy', 'Variância': 90.70405192563634}]\n",
      "[{'Coluna': 'adult_mortality', 'Variância': 15448.5209029929}]\n",
      "[{'Coluna': 'infant_deaths', 'Variância': 13906.659712018884}]\n",
      "[{'Coluna': 'alcohol', 'Variância': 16.422048356843053}]\n",
      "[{'Coluna': 'percentage_expenditure', 'Variância': 3951805.4827215625}]\n",
      "[{'Coluna': 'hepatitis_b', 'Variância': 628.5056818341719}]\n",
      "[{'Coluna': 'measles', 'Variância': 131498338.34235595}]\n",
      "[{'Coluna': 'bmi', 'Variância': 401.7632790518308}]\n",
      "[{'Coluna': 'under-five_deaths', 'Variância': 25742.774003216797}]\n",
      "[{'Coluna': 'polio', 'Variância': 548.8733370104052}]\n",
      "[{'Coluna': 'total_expenditure', 'Variância': 6.2416011842798165}]\n",
      "[{'Coluna': 'diphtheria', 'Variância': 562.4919180684007}]\n",
      "[{'Coluna': 'hiv/aids', 'Variância': 25.783895744141596}]\n",
      "[{'Coluna': 'gdp', 'Variância': 203637733.03554288}]\n",
      "[{'Coluna': 'population', 'Variância': 3722475920353729.0}]\n",
      "[{'Coluna': 'thinness_1-19_years', 'Variância': 19.538123370760047}]\n",
      "[{'Coluna': 'thinness_5-9_years', 'Variância': 20.330017674316203}]\n",
      "[{'Coluna': 'income_composition_of_resources', 'Variância': 0.04448030957558118}]\n",
      "[{'Coluna': 'schooling', 'Variância': 11.282341692810395}]\n"
     ]
    }
   ],
   "source": [
    "for i in range(0, len(lista_variancias_numericos)):\n",
    "    mediana_dict=[{\"Coluna\": colunas_so_com_numericos[i], \"Variância\": lista_variancias_numericos[i]}]\n",
    "    print(mediana_dict)"
   ]
  },
  {
   "cell_type": "code",
   "execution_count": 22,
   "metadata": {
    "colab": {
     "base_uri": "https://localhost:8080/"
    },
    "id": "CQG5Y0OCY3tX",
    "outputId": "15a3d6aa-fd9f-4073-9fc5-c1ff7dd60d19"
   },
   "outputs": [
    {
     "name": "stdout",
     "output_type": "stream",
     "text": [
      "[{'Coluna': 'life_expectancy', 'Desvio padrão': 9.523867487824278}]\n",
      "[{'Coluna': 'adult_mortality', 'Desvio padrão': 124.29207900342202}]\n",
      "[{'Coluna': 'infant_deaths', 'Desvio padrão': 117.9265013133981}]\n",
      "[{'Coluna': 'alcohol', 'Desvio padrão': 4.052412658755652}]\n",
      "[{'Coluna': 'percentage_expenditure', 'Desvio padrão': 1987.9148580161984}]\n",
      "[{'Coluna': 'hepatitis_b', 'Desvio padrão': 25.070015593018123}]\n",
      "[{'Coluna': 'measles', 'Desvio padrão': 11467.272489234567}]\n",
      "[{'Coluna': 'bmi', 'Desvio padrão': 20.044033502562073}]\n",
      "[{'Coluna': 'under-five_deaths', 'Desvio padrão': 160.4455484057342}]\n",
      "[{'Coluna': 'polio', 'Desvio padrão': 23.42804594946845}]\n",
      "[{'Coluna': 'total_expenditure', 'Desvio padrão': 2.4983196721556302}]\n",
      "[{'Coluna': 'diphtheria', 'Desvio padrão': 23.716912068572515}]\n",
      "[{'Coluna': 'hiv/aids', 'Desvio padrão': 5.077784531086524}]\n",
      "[{'Coluna': 'gdp', 'Desvio padrão': 14270.16934151599}]\n",
      "[{'Coluna': 'population', 'Desvio padrão': 61012096.50842798}]\n",
      "[{'Coluna': 'thinness_1-19_years', 'Desvio padrão': 4.420194947144306}]\n",
      "[{'Coluna': 'thinness_5-9_years', 'Desvio padrão': 4.508882086983003}]\n",
      "[{'Coluna': 'income_composition_of_resources', 'Desvio padrão': 0.21090355515159337}]\n",
      "[{'Coluna': 'schooling', 'Desvio padrão': 3.3589197211023656}]\n"
     ]
    }
   ],
   "source": [
    "for i in range(0, len(lista_variancias_numericos)):\n",
    "    mediana_dict=[{\"Coluna\": colunas_so_com_numericos[i], \"Desvio padrão\": lista_desvio_padrao_numericos[i]}]\n",
    "    print(mediana_dict)"
   ]
  },
  {
   "cell_type": "markdown",
   "metadata": {
    "id": "5LM5uZBva7Tk"
   },
   "source": [
    "### Boxplots e describes de variáveis importantes"
   ]
  },
  {
   "cell_type": "code",
   "execution_count": 23,
   "metadata": {},
   "outputs": [
    {
     "data": {
      "image/png": "[encoded data removed]",
      "text/plain": [
       "<Figure size 1440x1080 with 6 Axes>"
      ]
     },
     "metadata": {
      "needs_background": "light"
     },
     "output_type": "display_data"
    }
   ],
   "source": [
    "plt.figure(figsize=(20,15))\n",
    "\n",
    "for i, col in enumerate(['adult_mortality','infant_deaths','bmi','under-five_deaths','gdp','population'], start=1):\n",
    "    plt.subplot(2, 3, i)\n",
    "    df.boxplot(col)"
   ]
  },
  {
   "cell_type": "markdown",
   "metadata": {},
   "source": [
    "### UTILIZAÇÃO DO DESCRIBE PARA VISUALIZAÇÃO DOS QUARTIS, BEM COMO DA MAIOR CONCENTRAÇÃO DE DADOS NO DATASET"
   ]
  },
  {
   "cell_type": "markdown",
   "metadata": {},
   "source": [
    "### Mortalidade adulta"
   ]
  },
  {
   "cell_type": "code",
   "execution_count": 33,
   "metadata": {},
   "outputs": [
    {
     "data": {
      "text/plain": [
       "count    2928.000000\n",
       "mean      164.796448\n",
       "std       124.292079\n",
       "min         1.000000\n",
       "25%        74.000000\n",
       "50%       144.000000\n",
       "75%       228.000000\n",
       "max       723.000000\n",
       "Name: adult_mortality, dtype: float64"
      ]
     },
     "execution_count": 33,
     "metadata": {},
     "output_type": "execute_result"
    }
   ],
   "source": [
    "df['adult_mortality'].describe() "
   ]
  },
  {
   "cell_type": "markdown",
   "metadata": {},
   "source": [
    "### Mortalidade infantil"
   ]
  },
  {
   "cell_type": "code",
   "execution_count": 34,
   "metadata": {},
   "outputs": [
    {
     "data": {
      "text/plain": [
       "count    2938.000000\n",
       "mean       30.303948\n",
       "std       117.926501\n",
       "min         0.000000\n",
       "25%         0.000000\n",
       "50%         3.000000\n",
       "75%        22.000000\n",
       "max      1800.000000\n",
       "Name: infant_deaths, dtype: float64"
      ]
     },
     "execution_count": 34,
     "metadata": {},
     "output_type": "execute_result"
    }
   ],
   "source": [
    "df['infant_deaths'].describe()"
   ]
  },
  {
   "cell_type": "markdown",
   "metadata": {},
   "source": [
    "### Índice de massa corporal (IMC)"
   ]
  },
  {
   "cell_type": "code",
   "execution_count": 35,
   "metadata": {},
   "outputs": [
    {
     "data": {
      "text/plain": [
       "count    2904.000000\n",
       "mean       38.321247\n",
       "std        20.044034\n",
       "min         1.000000\n",
       "25%        19.300000\n",
       "50%        43.500000\n",
       "75%        56.200000\n",
       "max        87.300000\n",
       "Name: bmi, dtype: float64"
      ]
     },
     "execution_count": 35,
     "metadata": {},
     "output_type": "execute_result"
    }
   ],
   "source": [
    "df['bmi'].describe()"
   ]
  },
  {
   "cell_type": "markdown",
   "metadata": {},
   "source": [
    "### Morte abaixo de 5 anos de idade"
   ]
  },
  {
   "cell_type": "code",
   "execution_count": 36,
   "metadata": {},
   "outputs": [
    {
     "data": {
      "text/plain": [
       "count    2938.000000\n",
       "mean       42.035739\n",
       "std       160.445548\n",
       "min         0.000000\n",
       "25%         0.000000\n",
       "50%         4.000000\n",
       "75%        28.000000\n",
       "max      2500.000000\n",
       "Name: under-five_deaths, dtype: float64"
      ]
     },
     "execution_count": 36,
     "metadata": {},
     "output_type": "execute_result"
    }
   ],
   "source": [
    "df['under-five_deaths'].describe()"
   ]
  },
  {
   "cell_type": "markdown",
   "metadata": {},
   "source": [
    "### PIB per capita (Em dólares americanos)"
   ]
  },
  {
   "cell_type": "code",
   "execution_count": 37,
   "metadata": {},
   "outputs": [
    {
     "data": {
      "text/plain": [
       "count      2490.000000\n",
       "mean       7483.158469\n",
       "std       14270.169342\n",
       "min           1.681350\n",
       "25%         463.935626\n",
       "50%        1766.947595\n",
       "75%        5910.806335\n",
       "max      119172.741800\n",
       "Name: gdp, dtype: float64"
      ]
     },
     "execution_count": 37,
     "metadata": {},
     "output_type": "execute_result"
    }
   ],
   "source": [
    "df['gdp'].describe()"
   ]
  },
  {
   "cell_type": "markdown",
   "metadata": {},
   "source": [
    "### População dos países"
   ]
  },
  {
   "cell_type": "code",
   "execution_count": 38,
   "metadata": {},
   "outputs": [
    {
     "data": {
      "text/plain": [
       "count    2.286000e+03\n",
       "mean     1.275338e+07\n",
       "std      6.101210e+07\n",
       "min      3.400000e+01\n",
       "25%      1.957932e+05\n",
       "50%      1.386542e+06\n",
       "75%      7.420359e+06\n",
       "max      1.293859e+09\n",
       "Name: population, dtype: float64"
      ]
     },
     "execution_count": 38,
     "metadata": {},
     "output_type": "execute_result"
    }
   ],
   "source": [
    "df['population'].describe()"
   ]
  }
 ],
 "metadata": {
  "colab": {
   "name": "projeto_dataset_centralidade_dispersao.ipynb",
   "provenance": []
  },
  "kernelspec": {
   "display_name": "Python 3",
   "language": "python",
   "name": "python3"
  },
  "language_info": {
   "codemirror_mode": {
    "name": "ipython",
    "version": 3
   },
   "file_extension": ".py",
   "mimetype": "text/x-python",
   "name": "python",
   "nbconvert_exporter": "python",
   "pygments_lexer": "ipython3",
   "version": "3.7.6"
  }
 },
 "nbformat": 4,
 "nbformat_minor": 1
}
